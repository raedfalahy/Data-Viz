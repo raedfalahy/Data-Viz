{
 "cells": [
  {
   "cell_type": "markdown",
   "metadata": {},
   "source": [
    "# DS8004: MLP Lab"
   ]
  },
  {
   "cell_type": "markdown",
   "metadata": {},
   "source": [
    "## Backpropagation with Multiple Outputs"
   ]
  },
  {
   "cell_type": "markdown",
   "metadata": {},
   "source": [
    "Implement the backpropagation algorithm for a given dataset. The algorithm is provided below, and can also be found in lecture notes and Figure 11.11 in the book.\n",
    "\n",
    "![Backpropagation Algorithm](https://i.ibb.co/crKFJjB/Backpropagation-Alg.png)"
   ]
  },
  {
   "cell_type": "markdown",
   "metadata": {},
   "source": [
    "![Sigmoid_Function](https://i.ibb.co/NKTCp41/sigmoid-func.png)"
   ]
  },
  {
   "cell_type": "markdown",
   "metadata": {},
   "source": [
    "![Multilayer perceptron](https://i.ibb.co/Tvd79sr/multilayer-perceptron.png)"
   ]
  },
  {
   "cell_type": "markdown",
   "metadata": {},
   "source": [
    "## Data preparation"
   ]
  },
  {
   "cell_type": "code",
   "execution_count": 2,
   "metadata": {},
   "outputs": [
    {
     "name": "stdout",
     "output_type": "stream",
     "text": [
      "[[ 1. 15. 38. 29. 24.]\n",
      " [ 1.  6.  6.  2. 35.]\n",
      " [ 1. 24. 28.  1. 39.]\n",
      " [ 1. 33.  8.  7.  7.]\n",
      " [ 1. 12. 21. 17. 12.]\n",
      " [ 1. 24.  6. 12. 15.]\n",
      " [ 1. 18. 32.  8. 20.]\n",
      " [ 1. 24.  2. 24.  7.]\n",
      " [ 1.  3. 38. 39. 32.]\n",
      " [ 1. 12.  4. 27. 18.]\n",
      " [ 1.  1.  5.  0.  9.]\n",
      " [ 1.  3.  7.  3.  5.]\n",
      " [ 1.  6.  2. 10.  8.]\n",
      " [ 1.  9.  9.  6.  9.]\n",
      " [ 1.  1.  2.  0.  3.]\n",
      " [ 1.  4.  3.  8.  4.]\n",
      " [ 1.  3.  5.  1.  8.]\n",
      " [ 1.  1. 10.  8.  2.]\n",
      " [ 1.  0.  8.  7.  7.]\n",
      " [ 1.  8.  1.  4.  1.]\n",
      " [ 1.  1.  1.  0.  0.]\n",
      " [ 1.  0.  0.  1.  1.]\n",
      " [ 1.  1.  0.  0.  1.]\n",
      " [ 1.  1.  1.  1.  0.]\n",
      " [ 1.  1.  0.  0.  0.]\n",
      " [ 1.  0.  1.  0.  1.]\n",
      " [ 1.  1.  0.  0.  1.]\n",
      " [ 1.  0.  0.  0.  0.]\n",
      " [ 1.  1.  1.  1.  1.]\n",
      " [ 1.  1.  0.  1.  1.]]\n"
     ]
    }
   ],
   "source": [
    "# Define hyper-parameters and other size\n",
    "N=30 # number of samples\n",
    "K=3  # the number of classes\n",
    "D=4  # size of dimension OR number of independent variables\n",
    "H=10 # size of hidden layer\n",
    "\n",
    "import numpy as np\n",
    "import math\n",
    "\n",
    "np.random.seed(42)\n",
    "# X is input samples\n",
    "X=np.round(np.random.rand(N,D),2)\n",
    "# R is the output\n",
    "R=np.repeat([[1,0,0], [0,1,0], [0,0,1]],10, axis=0)\n",
    "\n",
    "# Adding some pattern into X\n",
    "X[:10,:] = X[:10,:]*40\n",
    "X[10:20,:] = X[10:20,:]*10\n",
    "\n",
    "#Initialize all v ih and w hj to rand(−0.01, 0.01)\n",
    "np.random.seed(100)    \n",
    "w = np.random.uniform(-0.01,0.01,(D+1,H))\n",
    "v = np.random.uniform(-0.01,0.01,(H+1,K))\n",
    "\n",
    "#Adding Ones to the X as first bias input\n",
    "X=np.c_[np.ones(30), X]\n",
    "\n",
    "print(np.round(X))"
   ]
  },
  {
   "cell_type": "markdown",
   "metadata": {},
   "source": [
    "## Backpropagation algorithm implementation"
   ]
  },
  {
   "cell_type": "code",
   "execution_count": null,
   "metadata": {},
   "outputs": [],
   "source": [
    "import math\n",
    "\n",
    "# See Fig 11.11 for the pseudocode\n",
    "\n",
    "def back_prop(x,r,H,K,D,step_size,accuracy_stop,iterations):\n",
    "    '''\n",
    "    Your code should be below\n",
    "    '''\n",
    "    \n",
    "    return 0 # change return value if needed"
   ]
  }
 ],
 "metadata": {
  "@webio": {
   "lastCommId": null,
   "lastKernelId": null
  },
  "kernelspec": {
   "display_name": "Python 3 (ipykernel)",
   "language": "python",
   "name": "python3"
  },
  "language_info": {
   "codemirror_mode": {
    "name": "ipython",
    "version": 3
   },
   "file_extension": ".py",
   "mimetype": "text/x-python",
   "name": "python",
   "nbconvert_exporter": "python",
   "pygments_lexer": "ipython3",
   "version": "3.9.7"
  }
 },
 "nbformat": 4,
 "nbformat_minor": 2
}
